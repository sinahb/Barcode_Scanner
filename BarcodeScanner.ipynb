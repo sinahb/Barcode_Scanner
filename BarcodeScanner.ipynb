{
 "cells": [
  {
   "cell_type": "code",
   "execution_count": 10,
   "id": "cd77ab0c",
   "metadata": {},
   "outputs": [],
   "source": [
    "import cv2\n",
    "import numpy as np\n",
    "from pyzbar.pyzbar import decode\n",
    "\n",
    "\n",
    "# Initialize the webcam\n",
    "cap = cv2.VideoCapture(0)\n",
    "\n",
    "while True:\n",
    "    # Capture frame-by-frame\n",
    "    success, img = cap.read()\n",
    "    if not success:\n",
    "        break\n",
    "\n",
    "    # Decode the QR codes in the frame\n",
    "    for code in decode(img):\n",
    "        # Get the data from the QR code\n",
    "        decode_data = code.data.decode(\"utf-8\")\n",
    "        print(f\"Decoded Data: {decode_data}\")\n",
    "        \n",
    "        # Get the points for the bounding box\n",
    "        pts = np.array([code.polygon], np.int32)\n",
    "        pts = pts.reshape((-1, 1, 2))\n",
    "        \n",
    "        # Draw the bounding box\n",
    "        cv2.polylines(img, [pts], True, (0, 255, 0), 2)\n",
    "        \n",
    "        # Get the rectangle for the bounding box\n",
    "        rect_pts = code.rect\n",
    "        # Optionally, draw a rectangle around the QR code\n",
    "        # cv2.rectangle(img, (rect_pts.left, rect_pts.top), \n",
    "        #              (rect_pts.left + rect_pts.width, rect_pts.top + rect_pts.height), \n",
    "        #              (255, 0, 0), 3)\n",
    "\n",
    "        # Put the decoded data text near the QR code\n",
    "        cv2.putText(img, decode_data, (rect_pts.left, rect_pts.top - 10), cv2.FONT_HERSHEY_SIMPLEX, 0.5, (255, 0, 0), 2)\n",
    "        \n",
    "    # Display the resulting frame\n",
    "    cv2.imshow(\"QR Code Scanner\", img)\n",
    "    \n",
    "    # Exit the loop if 'q' is pressed\n",
    "    if cv2.waitKey(1) & 0xFF == ord('q'):\n",
    "        break\n",
    "\n",
    "# When everything done, release the capture\n",
    "cap.release()\n",
    "cv2.destroyAllWindows()\n"
   ]
  },
  {
   "cell_type": "code",
   "execution_count": null,
   "id": "6bbe3f43",
   "metadata": {},
   "outputs": [],
   "source": []
  }
 ],
 "metadata": {
  "kernelspec": {
   "display_name": "Python 3 (ipykernel)",
   "language": "python",
   "name": "python3"
  },
  "language_info": {
   "codemirror_mode": {
    "name": "ipython",
    "version": 3
   },
   "file_extension": ".py",
   "mimetype": "text/x-python",
   "name": "python",
   "nbconvert_exporter": "python",
   "pygments_lexer": "ipython3",
   "version": "3.10.9"
  }
 },
 "nbformat": 4,
 "nbformat_minor": 5
}
